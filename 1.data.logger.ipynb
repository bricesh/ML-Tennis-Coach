{
 "cells": [
  {
   "cell_type": "markdown",
   "metadata": {},
   "source": [
    "__Import libraries__"
   ]
  },
  {
   "cell_type": "code",
   "execution_count": 1,
   "metadata": {
    "collapsed": false
   },
   "outputs": [],
   "source": [
    "from sense_hat import SenseHat\n",
    "import time\n",
    "import datetime\n",
    "from collections import OrderedDict"
   ]
  },
  {
   "cell_type": "markdown",
   "metadata": {},
   "source": [
    "__Define Colours__"
   ]
  },
  {
   "cell_type": "code",
   "execution_count": 2,
   "metadata": {
    "collapsed": true
   },
   "outputs": [],
   "source": [
    "n = [0,0,0]\n",
    "g = [0,255,0]\n",
    "b = [0,0,255]\n",
    "o = [255,127,0]"
   ]
  },
  {
   "cell_type": "markdown",
   "metadata": {},
   "source": [
    "__Define Shapes__"
   ]
  },
  {
   "cell_type": "code",
   "execution_count": 3,
   "metadata": {
    "collapsed": false
   },
   "outputs": [],
   "source": [
    "fhg_shape = [\n",
    "n,n,n,n,n,n,n,n,\n",
    "n,n,n,n,n,n,n,n,\n",
    "n,n,n,n,n,n,n,n,\n",
    "n,n,n,n,n,n,n,n,\n",
    "n,n,n,n,g,g,g,g,\n",
    "b,b,g,g,g,o,o,g,\n",
    "n,n,n,n,g,g,g,g,\n",
    "n,n,n,n,n,n,n,n\n",
    "]\n",
    "\n",
    "fhv_shape = [\n",
    "n,n,n,n,n,n,n,n,\n",
    "n,n,n,n,g,g,g,g,\n",
    "b,b,g,g,g,o,o,g,\n",
    "n,n,n,n,g,g,g,g,\n",
    "n,n,n,n,n,n,n,n,\n",
    "n,n,n,n,n,n,n,n,\n",
    "n,n,n,n,n,n,n,n,\n",
    "n,n,n,n,n,n,n,n\n",
    "]\n",
    "\n",
    "bhg_shape = [\n",
    "n,n,n,n,n,n,n,n,\n",
    "n,n,n,n,n,n,n,n,\n",
    "n,n,n,n,n,n,n,n,\n",
    "n,n,n,n,n,n,n,n,\n",
    "g,g,g,g,n,n,n,n,\n",
    "g,o,o,g,g,g,b,b,\n",
    "g,g,g,g,n,n,n,n,\n",
    "n,n,n,n,n,n,n,n\n",
    "]\n",
    "\n",
    "bhv_shape = [\n",
    "n,n,n,n,n,n,n,n,\n",
    "g,g,g,g,n,n,n,n,\n",
    "g,o,o,g,g,g,b,b,\n",
    "g,g,g,g,n,n,n,n,\n",
    "n,n,n,n,n,n,n,n,\n",
    "n,n,n,n,n,n,n,n,\n",
    "n,n,n,n,n,n,n,n,\n",
    "n,n,n,n,n,n,n,n\n",
    "]\n",
    "\n",
    "ser1_shape = [\n",
    "n,n,n,n,g,g,g,n,\n",
    "n,n,n,n,g,o,g,n,\n",
    "n,n,n,n,g,o,g,n,\n",
    "n,n,n,n,g,g,g,n,\n",
    "n,n,n,n,n,g,n,n,\n",
    "n,n,n,n,n,g,n,n,\n",
    "n,n,n,n,n,b,n,n,\n",
    "n,n,n,n,n,b,n,n\n",
    "]\n",
    "\n",
    "ser2_shape = [\n",
    "g,g,g,n,n,g,g,g,\n",
    "g,o,g,n,n,g,o,g,\n",
    "g,o,g,n,n,g,o,g,\n",
    "g,g,g,n,n,g,g,g,\n",
    "n,g,n,n,n,n,g,n,\n",
    "n,g,n,n,n,n,g,n,\n",
    "n,b,n,n,n,n,b,n,\n",
    "n,b,n,n,n,n,b,n\n",
    "]\n",
    "\n",
    "sma_shape = [\n",
    "n,n,g,g,g,g,n,n,\n",
    "n,g,o,o,o,o,g,n,\n",
    "n,g,o,o,o,o,g,n,\n",
    "n,n,g,g,g,g,n,n,\n",
    "n,n,n,g,g,n,n,n,\n",
    "n,n,n,g,g,n,n,n,\n",
    "n,n,n,b,b,n,n,n,\n",
    "n,n,n,b,b,n,n,n\n",
    "]\n",
    "\n",
    "qm_shape = [\n",
    "n,n,n,o,o,o,n,n,\n",
    "n,n,o,n,n,n,o,n,\n",
    "n,n,o,n,n,n,o,n,\n",
    "n,n,n,n,n,o,n,n,\n",
    "n,n,n,n,o,n,n,n,\n",
    "n,n,n,n,o,n,n,n,\n",
    "n,n,n,n,n,n,n,n,\n",
    "n,n,n,n,o,n,n,n\n",
    "]\n",
    "\n",
    "all_shapes = OrderedDict([(\"fhg\", fhg_shape),\n",
    "                          (\"fhv\", fhv_shape),\n",
    "                          (\"bhg\", bhg_shape),\n",
    "                          (\"bhv\", bhv_shape),\n",
    "                          (\"sv1\", ser1_shape),\n",
    "                          (\"sv2\", ser2_shape),\n",
    "                          (\"sma\", sma_shape)])"
   ]
  },
  {
   "cell_type": "markdown",
   "metadata": {},
   "source": [
    "__Initialise Objects and Variables__"
   ]
  },
  {
   "cell_type": "code",
   "execution_count": 4,
   "metadata": {
    "collapsed": false
   },
   "outputs": [],
   "source": [
    "sense = SenseHat()\n",
    "sense.set_imu_config(False, True, True) # Switch off Magnenometer\n",
    "sense.low_light = True\n",
    "sense.set_pixels(qm_shape) # Display question mark\n",
    "\n",
    "shape_pos = -1 # Indexes in Python start at 0 not 1\n",
    "choice_mode = True\n",
    "log_mode = False\n",
    "sampling_rate = 1.0/10.0 # 0.1 second most accurate"
   ]
  },
  {
   "cell_type": "markdown",
   "metadata": {},
   "source": [
    "__Log Data__"
   ]
  },
  {
   "cell_type": "code",
   "execution_count": 5,
   "metadata": {
    "collapsed": false
   },
   "outputs": [],
   "source": [
    "while choice_mode:\n",
    "    # Wait for button push\n",
    "    for event in sense.stick.get_events():\n",
    "        # Only look at released not pressed\n",
    "        if event.action == \"released\":\n",
    "            if event.direction == \"right\":\n",
    "                # Wraps around the shots\n",
    "                shape_pos = (shape_pos + 1) % len(all_shapes)\n",
    "            if event.direction == \"left\":\n",
    "                shape_pos = (shape_pos - 1) % len(all_shapes)\n",
    "            sense.set_pixels(all_shapes[all_shapes.keys()[shape_pos]])\n",
    "            \n",
    "            if event.direction == \"middle\" and shape_pos >= 0:\n",
    "                choice_mode = False\n",
    "                log_mode = True\n",
    "                records = \"t,GyrX,GyrY,GyrZ,AccX,AccY,AccZ\\n\"\n",
    "                # Display negative of image\n",
    "                sense.set_pixels(map(lambda x: [abs(y - 175) for y in x], all_shapes[all_shapes.keys()[shape_pos]]))\n",
    "                save_pos = shape_pos\n",
    "                shape_pos = -1\n",
    "                # Enter loggin mode\n",
    "                while log_mode:\n",
    "                    # Get a time stamp\n",
    "                    time_stamp = time.time()\n",
    "                    # Read and save IMU values\n",
    "                    gyro = sense.get_gyroscope_raw()\n",
    "                    acceleration = sense.get_accelerometer_raw()\n",
    "                    \n",
    "                    records = records + datetime.datetime.fromtimestamp(time.time()).strftime('%H:%M:%S.%f') + \",\"\n",
    "                    records = records + \"{0:.5f},{1:.5f},{2:.5f},\".format(gyro['x'],gyro['y'],gyro['z'])\n",
    "                    records = records + \"{0:.5f},{1:.5f},{2:.5f}\".format(acceleration['x'],acceleration['y'],acceleration['z'])\n",
    "                    records = records + \"\\n\"\n",
    "                    \n",
    "                    # Wait for the sampling period\n",
    "                    # Don't use sleep() as the OS takes over and will delay giving back the process priority\n",
    "                    while time.time() <= time_stamp + sampling_rate:\n",
    "                        pass\n",
    "                    \n",
    "                    for event in sense.stick.get_events():\n",
    "                        if event.action == \"released\":\n",
    "                            if event.direction == \"middle\":\n",
    "                                # Save file with recorded values\n",
    "                                file_name = all_shapes.keys()[save_pos]\n",
    "                                file_name = file_name + \"_\"\n",
    "                                file_name = file_name + datetime.datetime.fromtimestamp(time.time()).strftime('%Y-%m-%d_%H:%M:%S')\n",
    "                                file_name = file_name + \".csv\"\n",
    "                                f = open(file_name,\"a+\")\n",
    "                                f.write(records)\n",
    "                                f.close()\n",
    "                                choice_mode = True\n",
    "                                log_mode = False\n",
    "                                # Display question mark\n",
    "                                sense.set_pixels(qm_shape)\n",
    "            # Come out of choice mode gracefully\n",
    "            elif event.direction == \"middle\" and shape_pos < 0:\n",
    "                choice_mode = False\n",
    "                sense.clear()"
   ]
  },
  {
   "cell_type": "code",
   "execution_count": 6,
   "metadata": {
    "collapsed": true
   },
   "outputs": [],
   "source": [
    "sense.clear()"
   ]
  }
 ],
 "metadata": {
  "kernelspec": {
   "display_name": "Python 2",
   "language": "python",
   "name": "python2"
  },
  "language_info": {
   "codemirror_mode": {
    "name": "ipython",
    "version": 2
   },
   "file_extension": ".py",
   "mimetype": "text/x-python",
   "name": "python",
   "nbconvert_exporter": "python",
   "pygments_lexer": "ipython2",
   "version": "2.7.9"
  }
 },
 "nbformat": 4,
 "nbformat_minor": 2
}
