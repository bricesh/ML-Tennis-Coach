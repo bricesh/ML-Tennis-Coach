{
 "cells": [
  {
   "cell_type": "code",
   "execution_count": 1,
   "metadata": {
    "collapsed": true
   },
   "outputs": [],
   "source": [
    "from sklearn.ensemble import RandomForestClassifier\n",
    "from sklearn.externals import joblib\n",
    "import pandas as pd\n",
    "from sense_hat import SenseHat\n",
    "from collections import OrderedDict, deque, Counter\n",
    "import time"
   ]
  },
  {
   "cell_type": "markdown",
   "metadata": {},
   "source": [
    "__Define Colours__"
   ]
  },
  {
   "cell_type": "code",
   "execution_count": 2,
   "metadata": {
    "collapsed": true
   },
   "outputs": [],
   "source": [
    "n = [0,0,0]\n",
    "g = [0,255,0]\n",
    "r = [255,0,0]\n",
    "b = [0,0,255]\n",
    "o = [255,127,0]\n",
    "n = [0,0,0]\n",
    "g = [0,255,0]\n",
    "b = [0,0,255]\n",
    "o = [255,127,0]"
   ]
  },
  {
   "cell_type": "markdown",
   "metadata": {},
   "source": [
    "__Define Shapes__"
   ]
  },
  {
   "cell_type": "code",
   "execution_count": 3,
   "metadata": {
    "collapsed": false
   },
   "outputs": [],
   "source": [
    "fhg_shape = [\n",
    "n,n,n,n,n,n,n,n,\n",
    "n,n,n,n,n,n,n,n,\n",
    "n,n,n,n,n,n,n,n,\n",
    "n,n,n,n,n,n,n,n,\n",
    "n,n,n,n,g,g,g,g,\n",
    "b,b,g,g,g,o,o,g,\n",
    "n,n,n,n,g,g,g,g,\n",
    "n,n,n,n,n,n,n,n\n",
    "]\n",
    "\n",
    "fhv_shape = [\n",
    "n,n,n,n,n,n,n,n,\n",
    "n,n,n,n,g,g,g,g,\n",
    "b,b,g,g,g,o,o,g,\n",
    "n,n,n,n,g,g,g,g,\n",
    "n,n,n,n,n,n,n,n,\n",
    "n,n,n,n,n,n,n,n,\n",
    "n,n,n,n,n,n,n,n,\n",
    "n,n,n,n,n,n,n,n\n",
    "]\n",
    "\n",
    "bhg_shape = [\n",
    "n,n,n,n,n,n,n,n,\n",
    "n,n,n,n,n,n,n,n,\n",
    "n,n,n,n,n,n,n,n,\n",
    "n,n,n,n,n,n,n,n,\n",
    "g,g,g,g,n,n,n,n,\n",
    "g,o,o,g,g,g,b,b,\n",
    "g,g,g,g,n,n,n,n,\n",
    "n,n,n,n,n,n,n,n\n",
    "]\n",
    "\n",
    "bhv_shape = [\n",
    "n,n,n,n,n,n,n,n,\n",
    "g,g,g,g,n,n,n,n,\n",
    "g,o,o,g,g,g,b,b,\n",
    "g,g,g,g,n,n,n,n,\n",
    "n,n,n,n,n,n,n,n,\n",
    "n,n,n,n,n,n,n,n,\n",
    "n,n,n,n,n,n,n,n,\n",
    "n,n,n,n,n,n,n,n\n",
    "]\n",
    "\n",
    "ser1_shape = [\n",
    "n,n,n,n,g,g,g,n,\n",
    "n,n,n,n,g,o,g,n,\n",
    "n,n,n,n,g,o,g,n,\n",
    "n,n,n,n,g,g,g,n,\n",
    "n,n,n,n,n,g,n,n,\n",
    "n,n,n,n,n,g,n,n,\n",
    "n,n,n,n,n,b,n,n,\n",
    "n,n,n,n,n,b,n,n\n",
    "]\n",
    "\n",
    "ser2_shape = [\n",
    "g,g,g,n,n,g,g,g,\n",
    "g,o,g,n,n,g,o,g,\n",
    "g,o,g,n,n,g,o,g,\n",
    "g,g,g,n,n,g,g,g,\n",
    "n,g,n,n,n,n,g,n,\n",
    "n,g,n,n,n,n,g,n,\n",
    "n,b,n,n,n,n,b,n,\n",
    "n,b,n,n,n,n,b,n\n",
    "]\n",
    "\n",
    "sma_shape = [\n",
    "n,n,g,g,g,g,n,n,\n",
    "n,g,o,o,o,o,g,n,\n",
    "n,g,o,o,o,o,g,n,\n",
    "n,n,g,g,g,g,n,n,\n",
    "n,n,n,g,g,n,n,n,\n",
    "n,n,n,g,g,n,n,n,\n",
    "n,n,n,b,b,n,n,n,\n",
    "n,n,n,b,b,n,n,n\n",
    "]\n",
    "\n",
    "qm_shape = [\n",
    "n,n,n,r,r,r,n,n,\n",
    "n,n,r,n,n,n,r,n,\n",
    "n,n,r,n,n,n,r,n,\n",
    "n,n,n,n,n,r,n,n,\n",
    "n,n,n,n,r,n,n,n,\n",
    "n,n,n,n,r,n,n,n,\n",
    "n,n,n,n,n,n,n,n,\n",
    "n,n,n,n,r,n,n,n\n",
    "]\n",
    "\n",
    "all_shapes = OrderedDict([(\"FHG\", fhg_shape),\n",
    "                          (\"FHV\", fhv_shape),\n",
    "                          (\"BHG\", bhg_shape),\n",
    "                          (\"BHV\", bhv_shape),\n",
    "                          (\"sv1\", ser1_shape),\n",
    "                          (\"sv2\", ser2_shape),\n",
    "                          (\"sma\", sma_shape),\n",
    "                          (\"noshot\", qm_shape)])"
   ]
  },
  {
   "cell_type": "markdown",
   "metadata": {},
   "source": [
    "__Initialise Objects and Variables__"
   ]
  },
  {
   "cell_type": "code",
   "execution_count": 24,
   "metadata": {
    "collapsed": false
   },
   "outputs": [],
   "source": [
    "sense = SenseHat()\n",
    "sense.set_imu_config(False, True, True) # Switch off Magnenometer\n",
    "sense.low_light = True\n",
    "sense.set_pixels(qm_shape) # Display question mark\n",
    "\n",
    "sampling_rate = 1.0/10.0 # 0.1 second most accurate\n",
    "predict_mode = True\n",
    "clf = joblib.load('prod_model.pkl')\n",
    "last_prediction = 'noshot'\n",
    "d = deque(maxlen=7)\n",
    "d.append('noshot')"
   ]
  },
  {
   "cell_type": "code",
   "execution_count": 25,
   "metadata": {
    "collapsed": false,
    "scrolled": true
   },
   "outputs": [],
   "source": [
    "while predict_mode:\n",
    "    time_stamp = time.time()\n",
    "    gyro = sense.get_gyroscope_raw()\n",
    "    acceleration = sense.get_accelerometer_raw()\n",
    "    \n",
    "    cur_prediction = clf.predict(pd.DataFrame([[gyro['x'],gyro['y'],gyro['z'],acceleration['x'],acceleration['y'],acceleration['z']]]))\n",
    "    cur_pred_prob = max(max(clf.predict_proba(pd.DataFrame([[gyro['x'],gyro['y'],gyro['z'],acceleration['x'],acceleration['y'],acceleration['z']]]))))\n",
    "    \n",
    "    if (cur_pred_prob > .55):\n",
    "        d.append(cur_prediction[0])\n",
    "    \n",
    "    sense.set_pixels(all_shapes.get(Counter(list(d)).most_common(1)[0][0]))\n",
    "    \n",
    "    while time.time() <= time_stamp + sampling_rate:\n",
    "        pass\n",
    "    \n",
    "    for event in sense.stick.get_events():\n",
    "        if event.action == \"released\":\n",
    "            predict_mode = False"
   ]
  },
  {
   "cell_type": "code",
   "execution_count": null,
   "metadata": {
    "collapsed": true
   },
   "outputs": [],
   "source": []
  }
 ],
 "metadata": {
  "kernelspec": {
   "display_name": "Python 2",
   "language": "python",
   "name": "python2"
  },
  "language_info": {
   "codemirror_mode": {
    "name": "ipython",
    "version": 2
   },
   "file_extension": ".py",
   "mimetype": "text/x-python",
   "name": "python",
   "nbconvert_exporter": "python",
   "pygments_lexer": "ipython2",
   "version": "2.7.9"
  }
 },
 "nbformat": 4,
 "nbformat_minor": 2
}
